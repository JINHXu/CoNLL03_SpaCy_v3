{
  "nbformat": 4,
  "nbformat_minor": 0,
  "metadata": {
    "colab": {
      "name": "CoNLL03_eng_SpaCyV3.ipynb",
      "provenance": [],
      "toc_visible": true,
      "authorship_tag": "ABX9TyPdJMqekBfaa/Y9KhEDknMo",
      "include_colab_link": true
    },
    "kernelspec": {
      "name": "python3",
      "display_name": "Python 3"
    }
  },
  "cells": [
    {
      "cell_type": "markdown",
      "metadata": {
        "id": "view-in-github",
        "colab_type": "text"
      },
      "source": [
        "<a href=\"https://colab.research.google.com/github/JINHXu/CoNLL03_SpaCy_v3/blob/main/eng/CoNLL03_eng_SpaCyV3.ipynb\" target=\"_parent\"><img src=\"https://colab.research.google.com/assets/colab-badge.svg\" alt=\"Open In Colab\"/></a>"
      ]
    },
    {
      "cell_type": "markdown",
      "metadata": {
        "id": "1sEivyLG5v3Q"
      },
      "source": [
        "**Train a SpaCy v3 (eng) model with CoNLL-2003 data sets**\n",
        "\n",
        "\n",
        "1.   Prepare enviroment\n",
        "2.   Download and prepare data\n",
        "3.   Convert Data\n",
        "4.   Model training\n",
        "5.   Evaluation\n",
        "\n"
      ]
    },
    {
      "cell_type": "code",
      "metadata": {
        "colab": {
          "base_uri": "https://localhost:8080/"
        },
        "id": "qmaR1tYy7c43",
        "outputId": "efa7f578-8f2d-4e8a-a48f-e141e9e72bf7"
      },
      "source": [
        "# install SpaCy v3\n",
        "! pip install -U pip setuptools wheel\n",
        "! pip install -U spacy\n",
        "! python -m spacy download en_core_web_sm"
      ],
      "execution_count": 46,
      "outputs": [
        {
          "output_type": "stream",
          "text": [
            "Requirement already satisfied: pip in /usr/local/lib/python3.7/dist-packages (21.0.1)\n",
            "Requirement already satisfied: setuptools in /usr/local/lib/python3.7/dist-packages (54.1.2)\n",
            "Requirement already satisfied: wheel in /usr/local/lib/python3.7/dist-packages (0.36.2)\n",
            "Requirement already satisfied: spacy in /usr/local/lib/python3.7/dist-packages (3.0.5)\n",
            "Requirement already satisfied: murmurhash<1.1.0,>=0.28.0 in /usr/local/lib/python3.7/dist-packages (from spacy) (1.0.5)\n",
            "Requirement already satisfied: blis<0.8.0,>=0.4.0 in /usr/local/lib/python3.7/dist-packages (from spacy) (0.4.1)\n",
            "Requirement already satisfied: cymem<2.1.0,>=2.0.2 in /usr/local/lib/python3.7/dist-packages (from spacy) (2.0.5)\n",
            "Requirement already satisfied: thinc<8.1.0,>=8.0.2 in /usr/local/lib/python3.7/dist-packages (from spacy) (8.0.2)\n",
            "Requirement already satisfied: jinja2 in /usr/local/lib/python3.7/dist-packages (from spacy) (2.11.3)\n",
            "Requirement already satisfied: requests<3.0.0,>=2.13.0 in /usr/local/lib/python3.7/dist-packages (from spacy) (2.23.0)\n",
            "Requirement already satisfied: catalogue<2.1.0,>=2.0.1 in /usr/local/lib/python3.7/dist-packages (from spacy) (2.0.1)\n",
            "Requirement already satisfied: importlib-metadata>=0.20 in /usr/local/lib/python3.7/dist-packages (from spacy) (3.7.2)\n",
            "Requirement already satisfied: spacy-legacy<3.1.0,>=3.0.0 in /usr/local/lib/python3.7/dist-packages (from spacy) (3.0.1)\n",
            "Requirement already satisfied: wasabi<1.1.0,>=0.8.1 in /usr/local/lib/python3.7/dist-packages (from spacy) (0.8.2)\n",
            "Requirement already satisfied: pathy>=0.3.5 in /usr/local/lib/python3.7/dist-packages (from spacy) (0.4.0)\n",
            "Requirement already satisfied: srsly<3.0.0,>=2.4.0 in /usr/local/lib/python3.7/dist-packages (from spacy) (2.4.0)\n",
            "Requirement already satisfied: preshed<3.1.0,>=3.0.2 in /usr/local/lib/python3.7/dist-packages (from spacy) (3.0.5)\n",
            "Requirement already satisfied: tqdm<5.0.0,>=4.38.0 in /usr/local/lib/python3.7/dist-packages (from spacy) (4.41.1)\n",
            "Requirement already satisfied: typer<0.4.0,>=0.3.0 in /usr/local/lib/python3.7/dist-packages (from spacy) (0.3.2)\n",
            "Requirement already satisfied: pydantic<1.8.0,>=1.7.1 in /usr/local/lib/python3.7/dist-packages (from spacy) (1.7.3)\n",
            "Requirement already satisfied: setuptools in /usr/local/lib/python3.7/dist-packages (from spacy) (54.1.2)\n",
            "Requirement already satisfied: packaging>=20.0 in /usr/local/lib/python3.7/dist-packages (from spacy) (20.9)\n",
            "Requirement already satisfied: numpy>=1.15.0 in /usr/local/lib/python3.7/dist-packages (from spacy) (1.19.5)\n",
            "Requirement already satisfied: typing-extensions<4.0.0.0,>=3.7.4 in /usr/local/lib/python3.7/dist-packages (from spacy) (3.7.4.3)\n",
            "Requirement already satisfied: zipp>=0.5 in /usr/local/lib/python3.7/dist-packages (from importlib-metadata>=0.20->spacy) (3.4.1)\n",
            "Requirement already satisfied: pyparsing>=2.0.2 in /usr/local/lib/python3.7/dist-packages (from packaging>=20.0->spacy) (2.4.7)\n",
            "Requirement already satisfied: smart-open<4.0.0,>=2.2.0 in /usr/local/lib/python3.7/dist-packages (from pathy>=0.3.5->spacy) (3.0.0)\n",
            "Requirement already satisfied: chardet<4,>=3.0.2 in /usr/local/lib/python3.7/dist-packages (from requests<3.0.0,>=2.13.0->spacy) (3.0.4)\n",
            "Requirement already satisfied: idna<3,>=2.5 in /usr/local/lib/python3.7/dist-packages (from requests<3.0.0,>=2.13.0->spacy) (2.10)\n",
            "Requirement already satisfied: urllib3!=1.25.0,!=1.25.1,<1.26,>=1.21.1 in /usr/local/lib/python3.7/dist-packages (from requests<3.0.0,>=2.13.0->spacy) (1.24.3)\n",
            "Requirement already satisfied: certifi>=2017.4.17 in /usr/local/lib/python3.7/dist-packages (from requests<3.0.0,>=2.13.0->spacy) (2020.12.5)\n",
            "Requirement already satisfied: click<7.2.0,>=7.1.1 in /usr/local/lib/python3.7/dist-packages (from typer<0.4.0,>=0.3.0->spacy) (7.1.2)\n",
            "Requirement already satisfied: MarkupSafe>=0.23 in /usr/local/lib/python3.7/dist-packages (from jinja2->spacy) (1.1.1)\n",
            "2021-03-17 08:25:30.135303: I tensorflow/stream_executor/platform/default/dso_loader.cc:49] Successfully opened dynamic library libcudart.so.11.0\n",
            "Collecting en-core-web-sm==3.0.0\n",
            "  Downloading https://github.com/explosion/spacy-models/releases/download/en_core_web_sm-3.0.0/en_core_web_sm-3.0.0-py3-none-any.whl (13.7 MB)\n",
            "\u001b[K     |████████████████████████████████| 13.7 MB 98 kB/s \n",
            "\u001b[?25hRequirement already satisfied: spacy<3.1.0,>=3.0.0 in /usr/local/lib/python3.7/dist-packages (from en-core-web-sm==3.0.0) (3.0.5)\n",
            "Requirement already satisfied: spacy-legacy<3.1.0,>=3.0.0 in /usr/local/lib/python3.7/dist-packages (from spacy<3.1.0,>=3.0.0->en-core-web-sm==3.0.0) (3.0.1)\n",
            "Requirement already satisfied: murmurhash<1.1.0,>=0.28.0 in /usr/local/lib/python3.7/dist-packages (from spacy<3.1.0,>=3.0.0->en-core-web-sm==3.0.0) (1.0.5)\n",
            "Requirement already satisfied: setuptools in /usr/local/lib/python3.7/dist-packages (from spacy<3.1.0,>=3.0.0->en-core-web-sm==3.0.0) (54.1.2)\n",
            "Requirement already satisfied: requests<3.0.0,>=2.13.0 in /usr/local/lib/python3.7/dist-packages (from spacy<3.1.0,>=3.0.0->en-core-web-sm==3.0.0) (2.23.0)\n",
            "Requirement already satisfied: catalogue<2.1.0,>=2.0.1 in /usr/local/lib/python3.7/dist-packages (from spacy<3.1.0,>=3.0.0->en-core-web-sm==3.0.0) (2.0.1)\n",
            "Requirement already satisfied: cymem<2.1.0,>=2.0.2 in /usr/local/lib/python3.7/dist-packages (from spacy<3.1.0,>=3.0.0->en-core-web-sm==3.0.0) (2.0.5)\n",
            "Requirement already satisfied: numpy>=1.15.0 in /usr/local/lib/python3.7/dist-packages (from spacy<3.1.0,>=3.0.0->en-core-web-sm==3.0.0) (1.19.5)\n",
            "Requirement already satisfied: pydantic<1.8.0,>=1.7.1 in /usr/local/lib/python3.7/dist-packages (from spacy<3.1.0,>=3.0.0->en-core-web-sm==3.0.0) (1.7.3)\n",
            "Requirement already satisfied: tqdm<5.0.0,>=4.38.0 in /usr/local/lib/python3.7/dist-packages (from spacy<3.1.0,>=3.0.0->en-core-web-sm==3.0.0) (4.41.1)\n",
            "Requirement already satisfied: jinja2 in /usr/local/lib/python3.7/dist-packages (from spacy<3.1.0,>=3.0.0->en-core-web-sm==3.0.0) (2.11.3)\n",
            "Requirement already satisfied: importlib-metadata>=0.20 in /usr/local/lib/python3.7/dist-packages (from spacy<3.1.0,>=3.0.0->en-core-web-sm==3.0.0) (3.7.2)\n",
            "Requirement already satisfied: wasabi<1.1.0,>=0.8.1 in /usr/local/lib/python3.7/dist-packages (from spacy<3.1.0,>=3.0.0->en-core-web-sm==3.0.0) (0.8.2)\n",
            "Requirement already satisfied: blis<0.8.0,>=0.4.0 in /usr/local/lib/python3.7/dist-packages (from spacy<3.1.0,>=3.0.0->en-core-web-sm==3.0.0) (0.4.1)\n",
            "Requirement already satisfied: pathy>=0.3.5 in /usr/local/lib/python3.7/dist-packages (from spacy<3.1.0,>=3.0.0->en-core-web-sm==3.0.0) (0.4.0)\n",
            "Requirement already satisfied: typer<0.4.0,>=0.3.0 in /usr/local/lib/python3.7/dist-packages (from spacy<3.1.0,>=3.0.0->en-core-web-sm==3.0.0) (0.3.2)\n",
            "Requirement already satisfied: packaging>=20.0 in /usr/local/lib/python3.7/dist-packages (from spacy<3.1.0,>=3.0.0->en-core-web-sm==3.0.0) (20.9)\n",
            "Requirement already satisfied: thinc<8.1.0,>=8.0.2 in /usr/local/lib/python3.7/dist-packages (from spacy<3.1.0,>=3.0.0->en-core-web-sm==3.0.0) (8.0.2)\n",
            "Requirement already satisfied: preshed<3.1.0,>=3.0.2 in /usr/local/lib/python3.7/dist-packages (from spacy<3.1.0,>=3.0.0->en-core-web-sm==3.0.0) (3.0.5)\n",
            "Requirement already satisfied: srsly<3.0.0,>=2.4.0 in /usr/local/lib/python3.7/dist-packages (from spacy<3.1.0,>=3.0.0->en-core-web-sm==3.0.0) (2.4.0)\n",
            "Requirement already satisfied: typing-extensions<4.0.0.0,>=3.7.4 in /usr/local/lib/python3.7/dist-packages (from spacy<3.1.0,>=3.0.0->en-core-web-sm==3.0.0) (3.7.4.3)\n",
            "Requirement already satisfied: zipp>=0.5 in /usr/local/lib/python3.7/dist-packages (from importlib-metadata>=0.20->spacy<3.1.0,>=3.0.0->en-core-web-sm==3.0.0) (3.4.1)\n",
            "Requirement already satisfied: pyparsing>=2.0.2 in /usr/local/lib/python3.7/dist-packages (from packaging>=20.0->spacy<3.1.0,>=3.0.0->en-core-web-sm==3.0.0) (2.4.7)\n",
            "Requirement already satisfied: smart-open<4.0.0,>=2.2.0 in /usr/local/lib/python3.7/dist-packages (from pathy>=0.3.5->spacy<3.1.0,>=3.0.0->en-core-web-sm==3.0.0) (3.0.0)\n",
            "Requirement already satisfied: chardet<4,>=3.0.2 in /usr/local/lib/python3.7/dist-packages (from requests<3.0.0,>=2.13.0->spacy<3.1.0,>=3.0.0->en-core-web-sm==3.0.0) (3.0.4)\n",
            "Requirement already satisfied: urllib3!=1.25.0,!=1.25.1,<1.26,>=1.21.1 in /usr/local/lib/python3.7/dist-packages (from requests<3.0.0,>=2.13.0->spacy<3.1.0,>=3.0.0->en-core-web-sm==3.0.0) (1.24.3)\n",
            "Requirement already satisfied: certifi>=2017.4.17 in /usr/local/lib/python3.7/dist-packages (from requests<3.0.0,>=2.13.0->spacy<3.1.0,>=3.0.0->en-core-web-sm==3.0.0) (2020.12.5)\n",
            "Requirement already satisfied: idna<3,>=2.5 in /usr/local/lib/python3.7/dist-packages (from requests<3.0.0,>=2.13.0->spacy<3.1.0,>=3.0.0->en-core-web-sm==3.0.0) (2.10)\n",
            "Requirement already satisfied: click<7.2.0,>=7.1.1 in /usr/local/lib/python3.7/dist-packages (from typer<0.4.0,>=0.3.0->spacy<3.1.0,>=3.0.0->en-core-web-sm==3.0.0) (7.1.2)\n",
            "Requirement already satisfied: MarkupSafe>=0.23 in /usr/local/lib/python3.7/dist-packages (from jinja2->spacy<3.1.0,>=3.0.0->en-core-web-sm==3.0.0) (1.1.1)\n",
            "\u001b[38;5;2m✔ Download and installation successful\u001b[0m\n",
            "You can now load the package via spacy.load('en_core_web_sm')\n"
          ],
          "name": "stdout"
        }
      ]
    },
    {
      "cell_type": "code",
      "metadata": {
        "colab": {
          "base_uri": "https://localhost:8080/"
        },
        "id": "gulCY4bJ7z3R",
        "outputId": "818a94c2-54c0-4221-b3ef-4916ba8f4303"
      },
      "source": [
        "# download data from the official CoNLL-2003 website\n",
        "! wget http://www.cnts.ua.ac.be/conll2003/ner.tgz"
      ],
      "execution_count": 47,
      "outputs": [
        {
          "output_type": "stream",
          "text": [
            "--2021-03-17 08:25:44--  http://www.cnts.ua.ac.be/conll2003/ner.tgz\n",
            "Resolving www.cnts.ua.ac.be (www.cnts.ua.ac.be)... 146.175.13.81\n",
            "Connecting to www.cnts.ua.ac.be (www.cnts.ua.ac.be)|146.175.13.81|:80... connected.\n",
            "HTTP request sent, awaiting response... 301 Moved Permanently\n",
            "Location: https://www.clips.uantwerpen.be/conll2003/ner.tgz [following]\n",
            "--2021-03-17 08:25:45--  https://www.clips.uantwerpen.be/conll2003/ner.tgz\n",
            "Resolving www.clips.uantwerpen.be (www.clips.uantwerpen.be)... 146.175.13.81\n",
            "Connecting to www.clips.uantwerpen.be (www.clips.uantwerpen.be)|146.175.13.81|:443... connected.\n",
            "HTTP request sent, awaiting response... 200 OK\n",
            "Length: 3454112 (3.3M) [application/x-gzip]\n",
            "Saving to: ‘ner.tgz’\n",
            "\n",
            "ner.tgz             100%[===================>]   3.29M  1.63MB/s    in 2.0s    \n",
            "\n",
            "2021-03-17 08:25:49 (1.63 MB/s) - ‘ner.tgz’ saved [3454112/3454112]\n",
            "\n"
          ],
          "name": "stdout"
        }
      ]
    },
    {
      "cell_type": "code",
      "metadata": {
        "colab": {
          "base_uri": "https://localhost:8080/"
        },
        "id": "93NMGddp8bz0",
        "outputId": "d40d682e-3ceb-4d4f-bb5b-7098561a800e"
      },
      "source": [
        "%cd /content/\n",
        "!ls"
      ],
      "execution_count": 48,
      "outputs": [
        {
          "output_type": "stream",
          "text": [
            "/content\n",
            "ner.tgz\n"
          ],
          "name": "stdout"
        }
      ]
    },
    {
      "cell_type": "code",
      "metadata": {
        "colab": {
          "base_uri": "https://localhost:8080/"
        },
        "id": "luTPGyK08nwl",
        "outputId": "ae8c3888-e1da-4a8b-d355-23fc7b08124c"
      },
      "source": [
        "# unzip the file\n",
        "! tar -xvf  'ner.tgz' -C ."
      ],
      "execution_count": 49,
      "outputs": [
        {
          "output_type": "stream",
          "text": [
            "ner/\n",
            "ner/index.html\n",
            "ner/bin/\n",
            "ner/bin/chrep\n",
            "ner/bin/tokenize.eng\n",
            "ner/bin/make.eng.org\n",
            "ner/bin/make.eng\n",
            "ner/bin/make.deu.raw\n",
            "ner/bin/baseline\n",
            "ner/bin/OldFiles/\n",
            "ner/bin/OldFiles/conlleval.20171101:16:10:25\n",
            "ner/bin/htmlize\n",
            "ner/bin/xml2txt.eng.org\n",
            "ner/bin/tokenize.deu.raw\n",
            "ner/bin/make.eng.2016\n",
            "ner/bin/000README\n",
            "ner/bin/sbreaks\n",
            "ner/bin/conlleval\n",
            "ner/bin/make.eng.raw.2016\n",
            "ner/bin/tokenize.deu\n",
            "ner/bin/revealLemmas\n",
            "ner/bin/make.deu\n",
            "ner/bin/make.eng.raw\n",
            "ner/bin/removeJunk\n",
            "ner/bin/xml2txt.eng\n",
            "ner/acl.bst\n",
            "ner/lists/\n",
            "ner/lists/index.html\n",
            "ner/lists/ned.list.LOC\n",
            "ner/lists/ned.list.PER\n",
            "ner/lists/ned.list.ORG\n",
            "ner/lists/ned.list.MISC\n",
            "ner/lists/eng.list\n",
            "ner/lists/deu.list\n",
            "ner/OldFiles/\n",
            "ner/OldFiles/index.html\n",
            "ner/OldFiles/conlleval\n",
            "ner/guidelines.txt\n",
            "ner/etc/\n",
            "ner/etc/tags.eng.testb\n",
            "ner/etc/files.eng.testb\n",
            "ner/etc/tags.eng\n",
            "ner/etc/tags.deu\n",
            "ner/etc/files.eng\n",
            "ner/etc/files.head\n",
            "ner/000README\n",
            "ner/example.tex\n",
            "ner/example.ps\n",
            "ner/etc.2006/\n",
            "ner/etc.2006/revision.txt\n",
            "ner/etc.2006/000README\n",
            "ner/etc.2006/tags.deu\n",
            "ner/etc.2006/guide.pdf\n",
            "ner/hltnaacl03.sty\n",
            "ner/pdftex.cfg\n",
            "ner/annotation.txt\n",
            "ner/results/\n",
            "ner/results/wu/\n",
            "ner/results/wu/conlleval.out\n",
            "ner/results/wu/eng.testb.gz\n",
            "ner/results/wu/deu.testa.gz\n",
            "ner/results/wu/eng.testa.gz\n",
            "ner/results/wu/deu.testb.gz\n",
            "ner/results/mayfield/\n",
            "ner/results/mayfield/conlleval.out\n",
            "ner/results/mayfield/eng.testb\n",
            "ner/results/mayfield/deu.testb\n",
            "ner/results/mayfield/deu.testa\n",
            "ner/results/mayfield/eng.testa\n",
            "ner/results/chieu/\n",
            "ner/results/chieu/conlleval.out\n",
            "ner/results/chieu/eng.testb.gz\n",
            "ner/results/chieu/deu.testa.gz\n",
            "ner/results/chieu/eng.testa.gz\n",
            "ner/results/chieu/deu.testb.gz\n",
            "ner/results/klein.tgz\n",
            "ner/results/florian.tgz\n",
            "ner/results/curran/\n",
            "ner/results/curran/conlleval.out\n",
            "ner/results/curran/eng.testb.gz\n",
            "ner/results/curran/deu.testa.gz\n",
            "ner/results/curran/eng.testa.gz\n",
            "ner/results/curran/deu.testb.gz\n",
            "ner/results/mccallum/\n",
            "ner/results/mccallum/conlleval.out\n",
            "ner/results/mccallum/eng.testb.gz\n",
            "ner/results/mccallum/deu.testa.gz\n",
            "ner/results/mccallum/eng.testa.gz\n",
            "ner/results/mccallum/deu.testb.gz\n",
            "ner/results/carrerasa.tgz\n",
            "ner/results/curran.tgz\n",
            "ner/results/carrerasb.tgz\n",
            "ner/results/mccallum.tgz\n",
            "ner/results/hammerton/\n",
            "ner/results/hammerton/conlleval.out\n",
            "ner/results/hammerton/eng.testb.gz\n",
            "ner/results/hammerton/deu.testa.gz\n",
            "ner/results/hammerton/eng.testa.gz\n",
            "ner/results/hammerton/deu.testb.gz\n",
            "ner/results/bender.tgz\n",
            "ner/results/munro/\n",
            "ner/results/munro/conlleval.out\n",
            "ner/results/munro/eng.testb.gz\n",
            "ner/results/munro/deu.testa.gz\n",
            "ner/results/munro/eng.testa.gz\n",
            "ner/results/munro/deu.testb.gz\n",
            "ner/results/mayfield.tgz\n",
            "ner/results/carrerasb/\n",
            "ner/results/carrerasb/conlleval.out\n",
            "ner/results/carrerasb/eng.testb.gz\n",
            "ner/results/carrerasb/deu.testa.gz\n",
            "ner/results/carrerasb/eng.testa.gz\n",
            "ner/results/carrerasb/deu.testb.gz\n",
            "ner/results/demeulder.tgz\n",
            "ner/results/carrerasa/\n",
            "ner/results/carrerasa/conlleval.out\n",
            "ner/results/carrerasa/eng.testb.gz\n",
            "ner/results/carrerasa/deu.testa.gz\n",
            "ner/results/carrerasa/eng.testa.gz\n",
            "ner/results/carrerasa/deu.testb.gz\n",
            "ner/results/hendrickx/\n",
            "ner/results/hendrickx/conlleval.out\n",
            "ner/results/hendrickx/eng.testb.gz\n",
            "ner/results/hendrickx/deu.testa.gz\n",
            "ner/results/hendrickx/eng.testa.gz\n",
            "ner/results/hendrickx/deu.testb.gz\n",
            "ner/results/whitelaw.tgz\n",
            "ner/results/chieu.tgz\n",
            "ner/results/zhang/\n",
            "ner/results/zhang/conlleval.out\n",
            "ner/results/zhang/eng.testb.gz\n",
            "ner/results/zhang/deu.testa.gz\n",
            "ner/results/zhang/eng.testa.gz\n",
            "ner/results/zhang/deu.testb.gz\n",
            "ner/results/florian/\n",
            "ner/results/florian/conlleval.out\n",
            "ner/results/florian/eng.testb.gz\n",
            "ner/results/florian/deu.testa.gz\n",
            "ner/results/florian/eng.testa.gz\n",
            "ner/results/florian/deu.testb.gz\n",
            "ner/results/hendrickx.tgz\n",
            "ner/results/klein/\n",
            "ner/results/klein/conlleval.out\n",
            "ner/results/klein/eng.testb.gz\n",
            "ner/results/klein/deu.testa.gz\n",
            "ner/results/klein/eng.testa.gz\n",
            "ner/results/klein/deu.testb.gz\n",
            "ner/results/bender/\n",
            "ner/results/bender/conlleval.out\n",
            "ner/results/bender/eng.testb.gz\n",
            "ner/results/bender/deu.testa.gz\n",
            "ner/results/bender/eng.testa.gz\n",
            "ner/results/bender/deu.testb.gz\n",
            "ner/results/hammerton.tgz\n",
            "ner/results/whitelaw/\n",
            "ner/results/whitelaw/conlleval.out\n",
            "ner/results/whitelaw/eng.testb.gz\n",
            "ner/results/whitelaw/deu.testa.gz\n",
            "ner/results/whitelaw/eng.testa.gz\n",
            "ner/results/whitelaw/deu.testb.gz\n",
            "ner/results/demeulder/\n",
            "ner/results/demeulder/conlleval.out\n",
            "ner/results/demeulder/eng.testb.gz\n",
            "ner/results/demeulder/deu.testa.gz\n",
            "ner/results/demeulder/eng.testa.gz\n",
            "ner/results/demeulder/deu.testb.gz\n",
            "ner/results/zhang.tgz\n",
            "ner/results/wu.tgz\n",
            "ner/results/munro.tgz\n",
            "ner/example.pdf\n"
          ],
          "name": "stdout"
        }
      ]
    },
    {
      "cell_type": "markdown",
      "metadata": {
        "id": "36VJ1j618-PY"
      },
      "source": [
        "The raw data, Reuters Corpus, are not publicly available, it is upon requesting from NIST. The next step is uploading the `rcv1.tar.xz` to ner directory."
      ]
    },
    {
      "cell_type": "code",
      "metadata": {
        "id": "Ekagqpf_IAma"
      },
      "source": [
        "# move corpus fils to /ner\n",
        "!mv rcv1.tar.xz ner"
      ],
      "execution_count": 52,
      "outputs": []
    },
    {
      "cell_type": "code",
      "metadata": {
        "colab": {
          "base_uri": "https://localhost:8080/"
        },
        "id": "t6eInERXEg1y",
        "outputId": "e5070903-06be-438b-da8b-63cc65ecf283"
      },
      "source": [
        "# cd to ner\n",
        "%cd ./ner"
      ],
      "execution_count": 53,
      "outputs": [
        {
          "output_type": "stream",
          "text": [
            "/content/ner\n"
          ],
          "name": "stdout"
        }
      ]
    },
    {
      "cell_type": "code",
      "metadata": {
        "colab": {
          "base_uri": "https://localhost:8080/"
        },
        "id": "k4ueXiGsHcd-",
        "outputId": "59bea514-6748-4a9f-bc9c-4ad273782af6"
      },
      "source": [
        "!ls"
      ],
      "execution_count": 54,
      "outputs": [
        {
          "output_type": "stream",
          "text": [
            "000README\tbin\t  example.pdf  guidelines.txt  lists\t   rcv1.tar.xz\n",
            "acl.bst\t\tetc\t  example.ps   hltnaacl03.sty  OldFiles    results\n",
            "annotation.txt\tetc.2006  example.tex  index.html      pdftex.cfg\n"
          ],
          "name": "stdout"
        }
      ]
    },
    {
      "cell_type": "code",
      "metadata": {
        "colab": {
          "base_uri": "https://localhost:8080/"
        },
        "id": "FKLT0dVRAvt5",
        "outputId": "472b7be8-1d35-4c24-eada-a142cfbffb5e"
      },
      "source": [
        "# add lables to raw data\n",
        "! bin/make.eng.2016"
      ],
      "execution_count": 55,
      "outputs": [
        {
          "output_type": "stream",
          "text": [
            "extracting corpus files for eng.train and eng.testa...\n",
            "removing all xml codes...\n",
            "tokenizing...\n",
            "extracting corpus files for eng.testb...\n",
            "removing all xml codes...\n",
            "tokenizing...\n"
          ],
          "name": "stdout"
        }
      ]
    },
    {
      "cell_type": "code",
      "metadata": {
        "colab": {
          "base_uri": "https://localhost:8080/"
        },
        "id": "hD9G-JuibC73",
        "outputId": "a8883455-e1c8-4d66-8dad-5f352e3b90be"
      },
      "source": [
        "# rename the files\n",
        "!mv eng.train train.txt\n",
        "!mv eng.testa dev.txt\n",
        "!mv eng.testb test.txt"
      ],
      "execution_count": 101,
      "outputs": [
        {
          "output_type": "stream",
          "text": [
            "mv: cannot stat 'eng.train': No such file or directory\n",
            "mv: cannot stat 'eng.testa': No such file or directory\n",
            "mv: cannot stat 'eng.testb': No such file or directory\n"
          ],
          "name": "stdout"
        }
      ]
    },
    {
      "cell_type": "code",
      "metadata": {
        "colab": {
          "base_uri": "https://localhost:8080/"
        },
        "id": "RiqzqkWgDf0s",
        "outputId": "da509b4a-1f05-4a7f-a1d5-d7307db07431"
      },
      "source": [
        "# make a corpus dir for converted data\n",
        "%cd /content/\n",
        "!mkdir ./corpus"
      ],
      "execution_count": 68,
      "outputs": [
        {
          "output_type": "stream",
          "text": [
            "/content\n",
            "mkdir: cannot create directory ‘./corpus’: File exists\n"
          ],
          "name": "stdout"
        }
      ]
    },
    {
      "cell_type": "code",
      "metadata": {
        "colab": {
          "base_uri": "https://localhost:8080/"
        },
        "id": "s0p4VRisBOD0",
        "outputId": "68b0e360-c8c7-4932-ce50-fd439f70f1c3"
      },
      "source": [
        "# Convert CoNLL-03 to SpaCy format\n",
        "! python -m spacy convert -c ner -b en_core_web_sm -n 10 ./ner/train.txt ./corpus"
      ],
      "execution_count": 69,
      "outputs": [
        {
          "output_type": "stream",
          "text": [
            "2021-03-17 09:06:27.080443: I tensorflow/stream_executor/platform/default/dso_loader.cc:49] Successfully opened dynamic library libcudart.so.11.0\n",
            "\u001b[38;5;4mℹ Auto-detected token-per-line NER format\u001b[0m\n",
            "\u001b[38;5;3m⚠ Document delimiters found, automatic document segmentation with `-n`\n",
            "disabled.\u001b[0m\n",
            "\u001b[38;5;2m✔ Generated output file (946 documents): corpus/train.spacy\u001b[0m\n"
          ],
          "name": "stdout"
        }
      ]
    },
    {
      "cell_type": "code",
      "metadata": {
        "colab": {
          "base_uri": "https://localhost:8080/"
        },
        "id": "R5YuFkw9GgXn",
        "outputId": "063ee81f-e971-4aee-8643-6186ffa4b486"
      },
      "source": [
        "# validation and test data\n",
        "! python -m spacy convert -c iob -s -n 10 -b en_core_web_sm ./ner/dev.txt ./corpus\n",
        "! python -m spacy convert -c iob -s -n 10 -b en_core_web_sm ./ner/test.txt ./corpus"
      ],
      "execution_count": 70,
      "outputs": [
        {
          "output_type": "stream",
          "text": [
            "2021-03-17 09:12:30.694518: I tensorflow/stream_executor/platform/default/dso_loader.cc:49] Successfully opened dynamic library libcudart.so.11.0\n",
            "\u001b[38;5;4mℹ Auto-detected token-per-line NER format\u001b[0m\n",
            "\u001b[38;5;3m⚠ Sentence boundaries found, automatic sentence segmentation with `-s`\n",
            "disabled.\u001b[0m\n",
            "\u001b[38;5;3m⚠ Document delimiters found, automatic document segmentation with `-n`\n",
            "disabled.\u001b[0m\n",
            "\u001b[38;5;2m✔ Generated output file (216 documents): corpus/testa.spacy\u001b[0m\n",
            "2021-03-17 09:12:37.313365: I tensorflow/stream_executor/platform/default/dso_loader.cc:49] Successfully opened dynamic library libcudart.so.11.0\n",
            "\u001b[38;5;4mℹ Auto-detected token-per-line NER format\u001b[0m\n",
            "\u001b[38;5;3m⚠ Sentence boundaries found, automatic sentence segmentation with `-s`\n",
            "disabled.\u001b[0m\n",
            "\u001b[38;5;4mℹ Grouping every 10 sentences into a document.\u001b[0m\n",
            "\u001b[38;5;2m✔ Generated output file (369 documents): corpus/testb.spacy\u001b[0m\n"
          ],
          "name": "stdout"
        }
      ]
    },
    {
      "cell_type": "code",
      "metadata": {
        "colab": {
          "base_uri": "https://localhost:8080/"
        },
        "id": "dwbYr4WWsL7O",
        "outputId": "0f8b5fb0-a611-48db-9d3f-9b3cddaf6175"
      },
      "source": [
        "%cd /content/corpus\n",
        "!ls"
      ],
      "execution_count": 103,
      "outputs": [
        {
          "output_type": "stream",
          "text": [
            "/content/corpus\n",
            "en_vectors  testa.spacy  testb.spacy  train.spacy\n"
          ],
          "name": "stdout"
        }
      ]
    },
    {
      "cell_type": "code",
      "metadata": {
        "colab": {
          "base_uri": "https://localhost:8080/"
        },
        "id": "ZWvyrJ67r6Du",
        "outputId": "56c47c06-b6a5-4d98-a3b3-04cb684f7909"
      },
      "source": [
        "# rename (to suit the config file)\n",
        "!mv train.spacy train.spacy\n",
        "!mv testa.spacy dev.spacy\n",
        "!mv testb.spacy test.spacy"
      ],
      "execution_count": 104,
      "outputs": [
        {
          "output_type": "stream",
          "text": [
            "mv: 'train.spacy' and 'train.spacy' are the same file\n"
          ],
          "name": "stdout"
        }
      ]
    },
    {
      "cell_type": "code",
      "metadata": {
        "colab": {
          "base_uri": "https://localhost:8080/"
        },
        "id": "Tn71QknJsqrY",
        "outputId": "7c30f2a3-1a13-4be5-8911-a0be8591a591"
      },
      "source": [
        "%cd /content/"
      ],
      "execution_count": 105,
      "outputs": [
        {
          "output_type": "stream",
          "text": [
            "/content\n"
          ],
          "name": "stdout"
        }
      ]
    },
    {
      "cell_type": "code",
      "metadata": {
        "colab": {
          "base_uri": "https://localhost:8080/"
        },
        "id": "B-Yz-t1HaQ0O",
        "outputId": "77f869bd-6f4b-4f5a-930e-5d6e65c77ffd"
      },
      "source": [
        "!ls"
      ],
      "execution_count": 71,
      "outputs": [
        {
          "output_type": "stream",
          "text": [
            "corpus\tner  ner.tgz\n"
          ],
          "name": "stdout"
        }
      ]
    },
    {
      "cell_type": "code",
      "metadata": {
        "id": "3saoQJL8D2En"
      },
      "source": [
        "# make directory for configuration files\n",
        "!mkdir ./configs"
      ],
      "execution_count": 72,
      "outputs": []
    },
    {
      "cell_type": "code",
      "metadata": {
        "colab": {
          "base_uri": "https://localhost:8080/"
        },
        "id": "OrWDPmh15kdU",
        "outputId": "3c9bb099-7cf1-4104-f86e-971429b50d3e"
      },
      "source": [
        "\n",
        "!ls"
      ],
      "execution_count": 73,
      "outputs": [
        {
          "output_type": "stream",
          "text": [
            "configs  corpus  ner  ner.tgz\n"
          ],
          "name": "stdout"
        }
      ]
    },
    {
      "cell_type": "code",
      "metadata": {
        "colab": {
          "base_uri": "https://localhost:8080/"
        },
        "id": "g2ZnpYxrI3KG",
        "outputId": "9f4a3e78-b360-483d-856d-c731b2d1efc1"
      },
      "source": [
        "# download vectors\n",
        "!mkdir assets\n",
        "%cd ./assets\n",
        "!wget http://nlp.stanford.edu/data/glove.840B.300d.zip"
      ],
      "execution_count": 74,
      "outputs": [
        {
          "output_type": "stream",
          "text": [
            "/content/assets\n",
            "--2021-03-17 09:13:27--  http://nlp.stanford.edu/data/glove.840B.300d.zip\n",
            "Resolving nlp.stanford.edu (nlp.stanford.edu)... 171.64.67.140\n",
            "Connecting to nlp.stanford.edu (nlp.stanford.edu)|171.64.67.140|:80... connected.\n",
            "HTTP request sent, awaiting response... 302 Found\n",
            "Location: https://nlp.stanford.edu/data/glove.840B.300d.zip [following]\n",
            "--2021-03-17 09:13:27--  https://nlp.stanford.edu/data/glove.840B.300d.zip\n",
            "Connecting to nlp.stanford.edu (nlp.stanford.edu)|171.64.67.140|:443... connected.\n",
            "HTTP request sent, awaiting response... 301 Moved Permanently\n",
            "Location: http://downloads.cs.stanford.edu/nlp/data/glove.840B.300d.zip [following]\n",
            "--2021-03-17 09:13:27--  http://downloads.cs.stanford.edu/nlp/data/glove.840B.300d.zip\n",
            "Resolving downloads.cs.stanford.edu (downloads.cs.stanford.edu)... 171.64.64.22\n",
            "Connecting to downloads.cs.stanford.edu (downloads.cs.stanford.edu)|171.64.64.22|:80... connected.\n",
            "HTTP request sent, awaiting response... 200 OK\n",
            "Length: 2176768927 (2.0G) [application/zip]\n",
            "Saving to: ‘glove.840B.300d.zip’\n",
            "\n",
            "glove.840B.300d.zip 100%[===================>]   2.03G  4.93MB/s    in 6m 52s  \n",
            "\n",
            "2021-03-17 09:20:20 (5.04 MB/s) - ‘glove.840B.300d.zip’ saved [2176768927/2176768927]\n",
            "\n"
          ],
          "name": "stdout"
        }
      ]
    },
    {
      "cell_type": "code",
      "metadata": {
        "id": "n0Dws5XKoDLa"
      },
      "source": [
        "# rename vectors\n",
        "!mv ./assets/glove.840B.300d.zip vectors.zip"
      ],
      "execution_count": 92,
      "outputs": []
    },
    {
      "cell_type": "markdown",
      "metadata": {
        "id": "IPMUBFgND9xT"
      },
      "source": [
        "Upload (maually):\n",
        "\n",
        "\n",
        "*   configuration files to configs\n",
        "*   requirements.txt\n",
        "*   orth_variants.json (a file containing orth variants for data augmentation) to assets\n",
        "\n",
        "(!wget does not work well in this case)\n",
        "\n"
      ]
    },
    {
      "cell_type": "code",
      "metadata": {
        "id": "4ruccUyV95P6",
        "colab": {
          "base_uri": "https://localhost:8080/"
        },
        "outputId": "025ce00e-0e3e-4821-ce30-ecf4093fd49c"
      },
      "source": [
        "# A file containing orth variants for data augmentation\n",
        "# !wget https://github.com/explosion/spacy-lookups-data/blob/master/spacy_lookups_data/data/en_orth_variants.json"
      ],
      "execution_count": 75,
      "outputs": [
        {
          "output_type": "stream",
          "text": [
            "--2021-03-17 09:21:52--  https://github.com/explosion/spacy-lookups-data/blob/master/spacy_lookups_data/data/en_orth_variants.json\n",
            "Resolving github.com (github.com)... 52.192.72.89\n",
            "Connecting to github.com (github.com)|52.192.72.89|:443... connected.\n",
            "HTTP request sent, awaiting response... 200 OK\n",
            "Length: unspecified [text/html]\n",
            "Saving to: ‘en_orth_variants.json’\n",
            "\n",
            "en_orth_variants.js     [ <=>                ] 109.52K  --.-KB/s    in 0.1s    \n",
            "\n",
            "2021-03-17 09:21:53 (825 KB/s) - ‘en_orth_variants.json’ saved [112149]\n",
            "\n"
          ],
          "name": "stdout"
        }
      ]
    },
    {
      "cell_type": "code",
      "metadata": {
        "colab": {
          "base_uri": "https://localhost:8080/"
        },
        "id": "D52Qi4jLfe7Y",
        "outputId": "a8e83c40-27f1-4199-c239-ab8cf5807707"
      },
      "source": [
        "%cd /content/\n",
        "! ls"
      ],
      "execution_count": 93,
      "outputs": [
        {
          "output_type": "stream",
          "text": [
            "/content\n",
            "assets\tconfigs  corpus  ner  ner.tgz  requirements.txt  vectors.zip\n"
          ],
          "name": "stdout"
        }
      ]
    },
    {
      "cell_type": "code",
      "metadata": {
        "id": "qY7JOq-8-nA_",
        "colab": {
          "base_uri": "https://localhost:8080/"
        },
        "outputId": "0e3aa223-c33c-4405-ffc2-e942d097d9d4"
      },
      "source": [
        "# install dependencies\n",
        "!python -m pip install -r requirements.txt"
      ],
      "execution_count": 94,
      "outputs": [
        {
          "output_type": "stream",
          "text": [
            "Collecting spacy-lookups-data<1.1.0,>=1.0.0\n",
            "  Downloading spacy_lookups_data-1.0.0-py2.py3-none-any.whl (93.4 MB)\n",
            "\u001b[K     |████████████████████████████████| 93.4 MB 25 kB/s \n",
            "\u001b[?25hRequirement already satisfied: setuptools in /usr/local/lib/python3.7/dist-packages (from spacy-lookups-data<1.1.0,>=1.0.0->-r requirements.txt (line 1)) (54.1.2)\n",
            "Installing collected packages: spacy-lookups-data\n",
            "Successfully installed spacy-lookups-data-1.0.0\n"
          ],
          "name": "stdout"
        }
      ]
    },
    {
      "cell_type": "code",
      "metadata": {
        "id": "A7jlCipQBmst",
        "colab": {
          "base_uri": "https://localhost:8080/"
        },
        "outputId": "ef3d4f24-a8aa-49f8-d7ed-af8dde9584f8"
      },
      "source": [
        "# cd to content\n",
        "%cd /content/"
      ],
      "execution_count": 95,
      "outputs": [
        {
          "output_type": "stream",
          "text": [
            "/content\n"
          ],
          "name": "stdout"
        }
      ]
    },
    {
      "cell_type": "code",
      "metadata": {
        "id": "TithsTff_BL4",
        "colab": {
          "base_uri": "https://localhost:8080/"
        },
        "outputId": "0ded1acc-b88a-439d-fa02-ffbdece0100f"
      },
      "source": [
        "# Convert, truncate and prune the vectors\n",
        "!python -m spacy init vectors en assets/vectors.zip corpus/en_vectors -n en_glove840b_vectors_md"
      ],
      "execution_count": 96,
      "outputs": [
        {
          "output_type": "stream",
          "text": [
            "2021-03-17 10:02:09.438249: I tensorflow/stream_executor/platform/default/dso_loader.cc:49] Successfully opened dynamic library libcudart.so.11.0\n",
            "\u001b[38;5;4mℹ Creating blank nlp object for language 'en'\u001b[0m\n",
            "[2021-03-17 10:02:15,110] [INFO] Reading vectors from assets/vectors.zip\n",
            "tcmalloc: large alloc 2635227136 bytes == 0x560417da2000 @  0x7f7fda791001 0x7f7fd828f54f 0x7f7fd82dfb58 0x7f7fd82e3b17 0x7f7fd8382203 0x5604105010e4 0x560410500de0 0x5604105756f5 0x56041050269a 0x560410570a45 0x56041056fe0d 0x56041050277a 0x56041057186a 0x56041056fb0e 0x560410441e2b 0x5604105721e6 0x56041056fe0d 0x560410441e2b 0x5604105721e6 0x56041056fb0e 0x56041050302c 0x560410503231 0x5604105721e6 0x56041050269a 0x560410570c9e 0x56041056fe0d 0x56041050277a 0x560410570c9e 0x56041056fe0d 0x56041050277a 0x560410570c9e\n",
            "2196017it [04:46, 7667.41it/s]\n",
            "[2021-03-17 10:08:39,328] [INFO] Loaded vectors from assets/vectors.zip\n",
            "\u001b[38;5;2m✔ Successfully converted 2196017 vectors\u001b[0m\n",
            "\u001b[38;5;2m✔ Saved nlp object with vectors to output directory. You can now use\n",
            "the path to it in your config as the 'vectors' setting in [initialize].\u001b[0m\n",
            "/content/corpus/en_vectors\n"
          ],
          "name": "stdout"
        }
      ]
    },
    {
      "cell_type": "code",
      "metadata": {
        "id": "GKY53ROo_JCx",
        "colab": {
          "base_uri": "https://localhost:8080/"
        },
        "outputId": "5b6985ef-acaa-4060-dc69-1ceec691edc0"
      },
      "source": [
        "# train\n",
        "! python -m spacy train configs/cnn_glove_small.cfg -o training/cnn_glove_small --gpu-id -1"
      ],
      "execution_count": 106,
      "outputs": [
        {
          "output_type": "stream",
          "text": [
            "2021-03-17 10:19:59.343103: I tensorflow/stream_executor/platform/default/dso_loader.cc:49] Successfully opened dynamic library libcudart.so.11.0\n",
            "\u001b[38;5;4mℹ Using CPU\u001b[0m\n",
            "\u001b[1m\n",
            "=========================== Initializing pipeline ===========================\u001b[0m\n",
            "[2021-03-17 10:20:04,744] [INFO] Set up nlp object from config\n",
            "[2021-03-17 10:20:04,757] [INFO] Pipeline: ['ner']\n",
            "[2021-03-17 10:20:04,762] [INFO] Created vocabulary\n",
            "tcmalloc: large alloc 2635227136 bytes == 0x559fc7d28000 @  0x7fb00c2d91e7 0x7fb009dd946e 0x7fb009e2de7c 0x7fb009e2eaaf 0x7fb009ed0470 0x559fa32a30e4 0x559fa32a2de0 0x559fa33176f5 0x559fa3311b0e 0x559fa32a477a 0x559fa331386a 0x559fa3311b0e 0x559fa331a9fc 0x7faf61f782ca 0x7faf61f87de6 0x559fa32a37f2 0x559fa3316d75 0x7faf61f75fb8 0x7faf61f7838a 0x7faf61f85e33 0x559fa31e4337 0x7faf622c1e57 0x559fa32a3050 0x559fa339499d 0x559fa3316fe9 0x559fa3311e0d 0x559fa32a477a 0x559fa3312a45 0x559fa32a469a 0x559fa3316e50 0x559fa3311e0d\n",
            "[2021-03-17 10:20:31,308] [INFO] Added vectors: corpus/en_vectors\n",
            "[2021-03-17 10:20:31,308] [INFO] Finished initializing nlp object\n",
            "[2021-03-17 10:20:41,039] [INFO] Initialized pipeline components: ['ner']\n",
            "\u001b[38;5;2m✔ Initialized pipeline\u001b[0m\n",
            "\u001b[1m\n",
            "============================= Training pipeline =============================\u001b[0m\n",
            "\u001b[38;5;4mℹ Pipeline: ['ner']\u001b[0m\n",
            "\u001b[38;5;4mℹ Initial learn rate: 0.001\u001b[0m\n",
            "E    #       LOSS NER  ENTS_F  ENTS_P  ENTS_R  SCORE \n",
            "---  ------  --------  ------  ------  ------  ------\n",
            "  0       0     42.50    0.00    0.00    0.00    0.00\n",
            "  0     200   2525.99   75.36   75.79   74.92    0.75\n",
            "  0     400   1397.62   84.74   84.79   84.70    0.85\n",
            "  0     600   1285.76   87.44   87.64   87.24    0.87\n",
            "  0     800   1343.57   89.36   89.60   89.13    0.89\n",
            "  0    1000   1425.71   90.91   90.93   90.90    0.91\n",
            "  1    1200   1330.88   91.40   91.43   91.37    0.91\n",
            "  1    1400   1294.60   91.24   91.22   91.27    0.91\n",
            "  1    1600   1453.34   91.69   91.74   91.64    0.92\n",
            "  2    1800   1294.43   92.25   92.30   92.21    0.92\n",
            "  3    2000   1336.20   92.43   92.54   92.33    0.92\n",
            "  3    2200   1242.08   92.71   92.81   92.61    0.93\n",
            "  4    2400   1174.63   92.65   92.73   92.56    0.93\n",
            "  5    2600    924.79   92.65   92.65   92.66    0.93\n",
            "  6    2800    778.48   92.62   92.63   92.61    0.93\n",
            "  7    3000    755.82   92.76   92.70   92.81    0.93\n",
            "  8    3200    670.05   92.78   92.72   92.83    0.93\n",
            "  9    3400    564.94   92.84   92.77   92.91    0.93\n",
            " 10    3600    536.09   92.86   92.79   92.93    0.93\n",
            " 11    3800    471.48   93.01   93.01   93.00    0.93\n",
            " 12    4000    397.25   93.03   92.97   93.08    0.93\n",
            " 13    4200    457.36   93.01   92.97   93.05    0.93\n",
            " 14    4400    426.99   92.93   92.90   92.95    0.93\n",
            " 15    4600    364.28   92.88   92.88   92.88    0.93\n",
            " 16    4800    469.08   92.91   92.94   92.88    0.93\n",
            " 17    5000    407.34   93.11   93.09   93.13    0.93\n",
            " 18    5200    503.56   93.07   93.08   93.05    0.93\n",
            " 19    5400    348.17   93.08   93.10   93.07    0.93\n",
            " 20    5600    316.18   93.01   93.03   92.98    0.93\n",
            " 21    5800    343.87   93.07   93.05   93.08    0.93\n",
            " 22    6000    395.82   93.06   93.04   93.08    0.93\n",
            " 23    6200    340.57   93.05   93.06   93.03    0.93\n",
            " 24    6400    325.53   92.95   92.93   92.97    0.93\n",
            " 25    6600    297.85   92.85   92.82   92.88    0.93\n",
            " 26    6800    263.74   92.72   92.69   92.76    0.93\n",
            " 27    7000    252.46   92.79   92.75   92.83    0.93\n",
            " 28    7200    253.41   92.84   92.80   92.88    0.93\n",
            " 29    7400    236.00   92.84   92.83   92.85    0.93\n",
            " 29    7600    239.75   92.76   92.72   92.80    0.93\n",
            " 30    7800    237.20   92.74   92.73   92.75    0.93\n",
            " 31    8000    225.58   92.69   92.67   92.71    0.93\n",
            " 32    8200    254.35   92.72   92.68   92.75    0.93\n",
            " 33    8400    202.64   92.69   92.68   92.70    0.93\n",
            " 34    8600    161.21   92.79   92.72   92.85    0.93\n",
            " 35    8800    136.89   92.74   92.72   92.76    0.93\n",
            " 36    9000    232.44   92.69   92.64   92.75    0.93\n",
            " 37    9200    217.03   92.67   92.66   92.68    0.93\n",
            " 38    9400    251.33   92.63   92.60   92.66    0.93\n",
            " 39    9600    245.73   92.64   92.62   92.66    0.93\n",
            " 40    9800    205.26   92.60   92.57   92.63    0.93\n",
            " 41   10000    219.73   92.58   92.55   92.61    0.93\n",
            " 42   10200    222.20   92.69   92.67   92.71    0.93\n",
            " 43   10400    248.71   92.67   92.68   92.66    0.93\n",
            " 44   10600    221.04   92.61   92.58   92.65    0.93\n",
            " 45   10800    174.84   92.72   92.70   92.75    0.93\n",
            " 46   11000    131.06   92.67   92.62   92.71    0.93\n",
            " 47   11200    152.10   92.71   92.61   92.81    0.93\n",
            " 48   11400    209.44   92.63   92.53   92.73    0.93\n",
            " 49   11600    134.96   92.66   92.58   92.75    0.93\n",
            " 50   11800    158.90   92.64   92.54   92.73    0.93\n",
            " 51   12000    123.96   92.60   92.52   92.68    0.93\n",
            " 52   12200    158.70   92.58   92.51   92.65    0.93\n",
            " 53   12400    197.63   92.58   92.52   92.65    0.93\n",
            " 54   12600    172.03   92.63   92.56   92.70    0.93\n",
            " 55   12800    170.76   92.65   92.56   92.75    0.93\n",
            " 56   13000    212.20   92.67   92.59   92.75    0.93\n",
            "Epoch 57:   0% 0/200 [00:00<?, ?it/s]\u001b[38;5;2m✔ Saved pipeline to output directory\u001b[0m\n",
            "training/cnn_glove_small/model-last\n"
          ],
          "name": "stdout"
        }
      ]
    },
    {
      "cell_type": "code",
      "metadata": {
        "colab": {
          "base_uri": "https://localhost:8080/"
        },
        "id": "kWB76ERzNCgX",
        "outputId": "03d6ddff-964f-4093-b52b-1c2d4aca1d68"
      },
      "source": [
        "%cd /content/\n",
        "!mkdir metrics"
      ],
      "execution_count": 109,
      "outputs": [
        {
          "output_type": "stream",
          "text": [
            "/content\n"
          ],
          "name": "stdout"
        }
      ]
    },
    {
      "cell_type": "code",
      "metadata": {
        "id": "QY3aIzCU_NEp",
        "colab": {
          "base_uri": "https://localhost:8080/"
        },
        "outputId": "69ea4157-1a31-4b87-aa12-2984f016ef19"
      },
      "source": [
        "# evaluate\n",
        "!python -m spacy evaluate ./training/cnn_glove_small/model-best ./corpus/test.spacy --output ./metrics/cnn_glove_small.json --gpu-id -1 --gold-preproc"
      ],
      "execution_count": 110,
      "outputs": [
        {
          "output_type": "stream",
          "text": [
            "2021-03-17 12:41:27.412972: I tensorflow/stream_executor/platform/default/dso_loader.cc:49] Successfully opened dynamic library libcudart.so.11.0\n",
            "\u001b[38;5;4mℹ Using CPU\u001b[0m\n",
            "tcmalloc: large alloc 2635227136 bytes == 0x55ac6b7a4000 @  0x7f2c362be1e7 0x7f2c33dbe46e 0x7f2c33e12e7c 0x7f2c33e13aaf 0x7f2c33eb5470 0x55ac47f200e4 0x55ac47f1fde0 0x55ac47f946f5 0x55ac47f8eb0e 0x55ac47f2177a 0x55ac47f9086a 0x55ac47f8eb0e 0x55ac47f979fc 0x7f2b8bf5d2ca 0x7f2b8bf6cde6 0x55ac47f207f2 0x55ac47f93d75 0x7f2b8bf5afb8 0x7f2b8bf5d38a 0x7f2b8bf6ae33 0x55ac47e61337 0x7f2b8c2a6e57 0x55ac47f20050 0x55ac4801199d 0x55ac47f93fe9 0x55ac47f8ee0d 0x55ac47f2177a 0x55ac47f8fa45 0x55ac47f2169a 0x55ac47f93e50 0x55ac47f8ee0d\n",
            "\u001b[1m\n",
            "================================== Results ==================================\u001b[0m\n",
            "\n",
            "TOK     100.00\n",
            "NER P   89.03 \n",
            "NER R   89.08 \n",
            "NER F   89.05 \n",
            "SPEED   10999 \n",
            "\n",
            "\u001b[1m\n",
            "=============================== NER (per type) ===============================\u001b[0m\n",
            "\n",
            "           P       R       F\n",
            "LOC    90.94   92.63   91.77\n",
            "PER    92.55   93.69   93.12\n",
            "ORG    86.96   85.55   86.25\n",
            "MISC   80.76   78.35   79.54\n",
            "\n",
            "\u001b[38;5;2m✔ Saved results to metrics/cnn_glove_small.json\u001b[0m\n"
          ],
          "name": "stdout"
        }
      ]
    }
  ]
}